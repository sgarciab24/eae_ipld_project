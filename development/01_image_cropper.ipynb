{
 "cells": [
  {
   "cell_type": "markdown",
   "metadata": {},
   "source": [
    "# Project 1: Image Cropper\n",
    "\n",
    "In this project we will be using NumPy to transform an image into an array, extract some basic information from it like its shape and size, and then crop it with a custom size. We will also be using PIL to read the image and Matplotlib to display it.\n",
    "\n",
    "There will be a default image to start with but this program shoud be able to work with any image.\n",
    "\n",
    "### Project Tasks:\n",
    "\n",
    "- `1.1.` Take the image array `img_arr` and get its shape and size.\n",
    "\n",
    "- `1.2.` Define the dimensions of the crop, make sure that min is smaller than max and also that min is larger than 0 and max is smaller than the size of the image for every dimension. If not, print a message explaining the error.\n",
    "\n",
    "- `1.3.` Crop the image into a new array and display it.\n",
    "\n",
    "- `1.4.` Save the cropped image as a new file, declaring a variable to chose the new file name."
   ]
  },
  {
   "cell_type": "code",
   "execution_count": null,
   "metadata": {},
   "outputs": [],
   "source": [
    "# The library you have to use\n",
    "import numpy as np\n",
    "\n",
    "# Some extra libraries to deal with images and files\n",
    "from PIL import Image\n",
    "import matplotlib.pyplot as plt"
   ]
  },
  {
   "cell_type": "code",
   "execution_count": null,
   "metadata": {},
   "outputs": [],
   "source": [
    "img_path = \"../data/starry_night.png\"\n",
    "\n",
    "with Image.open(img_path) as img:\n",
    "    img_arr = np.array(img)\n",
    "\n",
    "plt.imshow(img_arr)"
   ]
  },
  {
   "cell_type": "code",
   "execution_count": null,
   "metadata": {},
   "outputs": [],
   "source": [
    "# Ex 1.1: Get the height and width of the image in pixels\n",
    "\n",
    "max_height = None   # TODO\n",
    "max_width = None     # TODO\n",
    "\n",
    "print(f\"Height: {max_height} pixels\")\n",
    "print(f\"Width: {max_width} pixels\")"
   ]
  },
  {
   "cell_type": "code",
   "execution_count": null,
   "metadata": {},
   "outputs": [],
   "source": []
  },
  {
   "cell_type": "code",
   "execution_count": null,
   "metadata": {},
   "outputs": [],
   "source": [
    "# Ex 1.2: Define the dimensions of the crop, make sure that min is smaller than max and also that min is larger than 0 \n",
    "# and max is smaller than the size of the image for every dimension. If not, print a message explaining the error.\n",
    "\n",
    "# Example crop dimensions, modify them to test your code\n",
    "crop_min_h = 600 \n",
    "crop_max_h = 1000\n",
    "crop_min_w = 550\n",
    "crop_max_w = 1100\n",
    "\n",
    "\n",
    "# Constraint checks\n",
    "\n",
    "# TODO: Develop the code to validate the constraints and print the error message if any constraint is invalid"
   ]
  },
  {
   "cell_type": "code",
   "execution_count": null,
   "metadata": {},
   "outputs": [],
   "source": [
    "# Ex 1.3: Generate the crop array into a new variable, use NumPy array slicing\n",
    "\n",
    "crop_arr = None  # TODO"
   ]
  },
  {
   "cell_type": "code",
   "execution_count": null,
   "metadata": {},
   "outputs": [],
   "source": [
    "# Display the cropped image\n",
    "\n",
    "plt.imshow(crop_arr)"
   ]
  },
  {
   "cell_type": "code",
   "execution_count": null,
   "metadata": {},
   "outputs": [],
   "source": [
    "# Ex 1.4: Saving the cropped image into a new file, set the filename of the new image\n",
    "\n",
    "crop_img = Image.fromarray(crop_arr)\n",
    "\n",
    "file_name = None  # TODO: Set a file name, use a string\n",
    "\n",
    "crop_img.save(f\"../data/{file_name}.png\")"
   ]
  }
 ],
 "metadata": {
  "kernelspec": {
   "display_name": "Python 3",
   "language": "python",
   "name": "python3"
  },
  "language_info": {
   "codemirror_mode": {
    "name": "ipython",
    "version": 3
   },
   "file_extension": ".py",
   "mimetype": "text/x-python",
   "name": "python",
   "nbconvert_exporter": "python",
   "pygments_lexer": "ipython3",
   "version": "3.13.0"
  }
 },
 "nbformat": 4,
 "nbformat_minor": 2
}
